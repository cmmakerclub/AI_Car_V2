{
 "cells": [
  {
   "cell_type": "code",
   "execution_count": null,
   "metadata": {},
   "outputs": [],
   "source": [
    "%serialconnect --port=COM3 --baudrate=115200"
   ]
  },
  {
   "cell_type": "code",
   "execution_count": null,
   "metadata": {},
   "outputs": [],
   "source": [
    "from machine import I2C\n",
    "import time\n",
    "import struct"
   ]
  },
  {
   "cell_type": "code",
   "execution_count": null,
   "metadata": {},
   "outputs": [],
   "source": [
    "i2c = I2C(I2C.I2C0, freq=100000, scl=35, sda=34)"
   ]
  },
  {
   "cell_type": "code",
   "execution_count": null,
   "metadata": {},
   "outputs": [],
   "source": [
    "print(i2c.scan ())"
   ]
  },
  {
   "cell_type": "code",
   "execution_count": null,
   "metadata": {},
   "outputs": [],
   "source": [
    "def buzzer(timelong = 0):  #ฟังชั้นเปิดเสียง ตัวเลข 1 = 50mS  หรือ 2 = 100mS\n",
    "    if timelong >= 255 :\n",
    "        timelong = 255\n",
    "    a = i2c.writeto(0x12,bytes([int(timelong)]))\n",
    "    return a\n",
    "\n",
    "def servomotor(M1 = 0,M2=0,M3=0,M4=0):  # ฟังชั้นขับโซโวมอเตอร์  มี 4 ช่อง M1,M2,M3,M4 ค่า 0-255 map 1000-1500 uS\n",
    "    if M1 >= 255 :\n",
    "        M1 = 255\n",
    "    if M2 >= 255 :\n",
    "        M2 = 25\n",
    "    if M3 >= 255 :\n",
    "        M3 = 255\n",
    "    if M4 >= 255 :\n",
    "        M4 = 255\n",
    "    a = i2c.writeto(0x12,bytes([int(M1),int(M2),int(M3),int(M4)]))\n",
    "    return a\n",
    "def carmotor(FB = 128,LR = 128):  # ฟังชั้น FB คือ เดินหน้า ถอยหลัง   LR คือ  เลี้ยวซ้าย ขวา\n",
    "    if FB >= 255 :\n",
    "        FB = 255\n",
    "    if LR >= 255 :\n",
    "        LR = 255\n",
    "\n",
    "    a = i2c.writeto(0x12,bytes([int(FB),int(LR),int(0)]))\n",
    "    return a\n",
    "def setname_bl(_num = 0):  # ฟังชั้นเปลียนซื่อ Blใส่ได้แต่ตัวเลขเท่านั้น\n",
    "    if _num >= ุ60000 :\n",
    "        _num = 60000\n",
    "    _namenum = struct.pack(\">H\", 1)\n",
    "    a = i2c.writeto(0x12,_namenum)\n",
    "    return a"
   ]
  },
  {
   "cell_type": "code",
   "execution_count": null,
   "metadata": {},
   "outputs": [],
   "source": [
    "a = buzzer(1) #เสียงดังนาน 50ms"
   ]
  },
  {
   "cell_type": "code",
   "execution_count": null,
   "metadata": {},
   "outputs": [],
   "source": [
    "a = buzzer(0) #เสียงดับ"
   ]
  },
  {
   "cell_type": "code",
   "execution_count": null,
   "metadata": {},
   "outputs": [],
   "source": [
    "a = servomotor(255,255,255,255) # สั่ง servo หมุน "
   ]
  },
  {
   "cell_type": "code",
   "execution_count": null,
   "metadata": {},
   "outputs": [],
   "source": [
    "a = carmotor(130,0)  #เดินหน้า , กลาง"
   ]
  },
  {
   "cell_type": "code",
   "execution_count": null,
   "metadata": {},
   "outputs": [],
   "source": [
    "a = carmotor(110,0)  #ถอยหลัง , กลาง"
   ]
  },
  {
   "cell_type": "code",
   "execution_count": null,
   "metadata": {},
   "outputs": [],
   "source": [
    "a = carmotor(0,0)  #หยุด ,"
   ]
  },
  {
   "cell_type": "code",
   "execution_count": null,
   "metadata": {},
   "outputs": [],
   "source": [
    "a = carmotor(0,255)  #ถอยหลัง , "
   ]
  },
  {
   "cell_type": "code",
   "execution_count": null,
   "metadata": {},
   "outputs": [],
   "source": []
  },
  {
   "cell_type": "code",
   "execution_count": null,
   "metadata": {},
   "outputs": [],
   "source": [
    "data = i2c.readfrom(0x12, 3)\n",
    "print(data)"
   ]
  },
  {
   "cell_type": "code",
   "execution_count": null,
   "metadata": {},
   "outputs": [],
   "source": [
    "while 1 :\n",
    "    data = i2c.readfrom(0x12, 3)\n",
    "    print(data)\n",
    "    time.sleep(1)"
   ]
  },
  {
   "cell_type": "code",
   "execution_count": null,
   "metadata": {},
   "outputs": [],
   "source": [
    "import uos"
   ]
  },
  {
   "cell_type": "code",
   "execution_count": null,
   "metadata": {},
   "outputs": [],
   "source": [
    "print(uos.listdir(\"/sd\"))"
   ]
  },
  {
   "cell_type": "code",
   "execution_count": null,
   "metadata": {},
   "outputs": [],
   "source": [
    "tong = uos.listdir(\"/sd\")"
   ]
  },
  {
   "cell_type": "code",
   "execution_count": null,
   "metadata": {},
   "outputs": [],
   "source": [
    "print(tong[1])"
   ]
  },
  {
   "cell_type": "code",
   "execution_count": null,
   "metadata": {},
   "outputs": [],
   "source": [
    "# Untitled - By: ER9X - Fri Nov 8 2019\n",
    "\n",
    "import sensor, image, time,lcd\n",
    "from Maix import freq\n",
    "\n",
    "\n",
    "print(freq.get())\n",
    "\n",
    "#freq.set(500,500)\n",
    "\n",
    "lcd.init()\n",
    "lcd.clear()\n",
    "sensor.reset(freq=24000000,dual_buff=True)\n",
    "sensor.set_pixformat(sensor.RGB565)\n",
    "sensor.set_framesize(sensor.QVGA)\n",
    "sensor.set_vflip(1)\n",
    "sensor.run(1)\n",
    "#sensor.set_windowing((0,0,224, 224))\n",
    "#sensor.run(1)\n",
    "lcd.init(type=2,freq=20000000,color=(255,0,0))\n",
    "#time.sleep(1)\n",
    "#lcd.init(type=2, freq=20000000, color=(0,255,0))\n",
    "#time.sleep(1)\n",
    "#lcd.init(type=2, freq=20000000, color=(0,0,255))\n",
    "#time.sleep(1)\n",
    "clock = time.clock()\n",
    "\n",
    "while(True):\n",
    "    clock.tick()\n",
    "    img = sensor.snapshot()\n",
    "    #tong = img.rgb_to_lab()\n",
    "    #img2 = img.rgb_to_grayscale()\n",
    "    lcd.display(img)\n",
    "    fps =clock.fps()\n",
    "    print(fps)"
   ]
  },
  {
   "cell_type": "code",
   "execution_count": null,
   "metadata": {},
   "outputs": [],
   "source": [
    "import sensor, image, time ,lcd\n",
    "import KPU as kpu\n",
    "from fpioa_manager import fm\n",
    "from machine import I2C\n",
    "from board import board_info\n",
    "from Maix import GPIO\n",
    "i2c = I2C(I2C.I2C0, freq=100000, scl=35, sda=34)\n",
    "\n",
    "sensor.reset(freq=35000000,dual_buff=True)\n",
    "sensor.set_pixformat(sensor.RGB565)\n",
    "sensor.set_framesize(sensor.QVGA)\n",
    "#sensor.skip_frames(time = 2000)\n",
    "sensor.set_vflip(1)\n",
    "sensor.run(1)\n",
    "\n",
    "clock = time.clock()\n",
    "toss1 = 0\n",
    "\n",
    "\n",
    "lcd.init()\n",
    "\n",
    "task = kpu.load(0x300000)\n",
    "\n",
    "#task = kpu.load(\"/sd/t6.kmodel\")\n",
    "##datazzz = bytes([int(128),int(128),int(0)])\n",
    "a = kpu.set_outputs(task,0,1,1,1)\n",
    "try:\n",
    "    while(True):\n",
    "        toss = toss1\n",
    "        toss1 = time.ticks_ms()\n",
    "        print(1000/(toss1-toss))\n",
    "        #img = image.Image(\"/sd/dataset/55.jpg\")\n",
    "        img = sensor.snapshot()\n",
    "        #img = img.draw_rectangle(0,0,320,80,color=(0,0,0),fill=True)\n",
    "        ##img = img.draw_rectangle(130,180,90,240-180,color=(0,0,0),fill=True)\n",
    "        img = img.resize(160,160)\n",
    "\n",
    "        ##img = img.draw_rectangle(0,180,224,320,color=(0,0,0),fill=True)\n",
    "        a = img.pix_to_ai()\n",
    "        #print(img[0])\n",
    "\n",
    "        fmap = kpu.forward(task,img)\n",
    "        plist=fmap[:]\n",
    "        #pmax=max(plist)\n",
    "        #max_index=plist.index(pmax)\n",
    "        #print(plist)\n",
    "        txx = 0\n",
    "        if abs(plist[0]) >0.2 :\n",
    "            txx = (plist[0])*128\n",
    "\n",
    "        #print(txx)\n",
    "        ##txx = txx*1.5\n",
    "        if txx > 127 :\n",
    "            txx = 127\n",
    "        if txx < -127 :\n",
    "            txx = -127\n",
    "        #print(txx)\n",
    "        #datazzz = bytes([int(128),int(txx+127),int(0)])\n",
    "        ####print(datazzz)\n",
    "        #i2c.writeto(0x12,bytes([int(200),int(txx+127),int(0)]))\n",
    "        #lcd.display(img)\n",
    "        #lcd.draw_string(90, 0, str(int(1000/(toss1-toss)))+\" fps\", lcd.RED,lcd.BLACK)\n",
    "        #lcd.display(img2)\n",
    "\n",
    "except KeyboardInterrupt :\n",
    "    a = kpu.deinit(task)"
   ]
  },
  {
   "cell_type": "code",
   "execution_count": null,
   "metadata": {},
   "outputs": [],
   "source": []
  }
 ],
 "metadata": {
  "kernelspec": {
   "display_name": "MicroPython/ESP32 - USB",
   "language": "python",
   "name": "micropython"
  },
  "language_info": {
   "codemirror_mode": "python",
   "file_extension": ".py",
   "mimetype": "text/python",
   "name": "micropython"
  }
 },
 "nbformat": 4,
 "nbformat_minor": 4
}
