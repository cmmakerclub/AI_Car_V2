{
 "cells": [
  {
   "cell_type": "code",
   "execution_count": 13,
   "metadata": {},
   "outputs": [
    {
     "name": "stdout",
     "output_type": "stream",
     "text": [
      "serial exception on close WriteFile failed (PermissionError(13, 'Access is denied.', None, 5))\n",
      "\u001b[34mConnecting to --port=COM3 --baud=115200 \u001b[0m\n",
      "16.39344\n",
      "Traceback (most recent call last):\n",
      "  File \"boot.py\", line 17, in <module>\n",
      "KeyboardInterrupt: \n",
      "MicroPython v0.5.0-46-g78dafab5a-dirty on 2020-06-20; Sipeed_M1 with kendryte-k210\n",
      "Type \"help()\" for more information.\n",
      ">>> \n",
      ">>> \n",
      ">>> \n",
      "raw REPL; CTRL-B to exit\n",
      ">\u001b[34m\n",
      "Ready.\n",
      "\u001b[0m"
     ]
    }
   ],
   "source": [
    "%serialconnect --port=COM3 --baudrate=115200"
   ]
  },
  {
   "cell_type": "code",
   "execution_count": 14,
   "metadata": {},
   "outputs": [],
   "source": [
    "from machine import I2C\n",
    "import time"
   ]
  },
  {
   "cell_type": "code",
   "execution_count": 15,
   "metadata": {},
   "outputs": [],
   "source": [
    "i2c = I2C(I2C.I2C0, freq=100000, scl=35, sda=34)"
   ]
  },
  {
   "cell_type": "code",
   "execution_count": 16,
   "metadata": {},
   "outputs": [
    {
     "name": "stdout",
     "output_type": "stream",
     "text": [
      "[18]\n"
     ]
    }
   ],
   "source": [
    "print(i2c.scan ())"
   ]
  },
  {
   "cell_type": "code",
   "execution_count": 6,
   "metadata": {},
   "outputs": [],
   "source": [
    "i2c.writeto(0x12,bytes([int(128),int(50),int(0)]))"
   ]
  },
  {
   "cell_type": "code",
   "execution_count": null,
   "metadata": {},
   "outputs": [],
   "source": []
  },
  {
   "cell_type": "code",
   "execution_count": 7,
   "metadata": {},
   "outputs": [],
   "source": [
    "i2c.writeto(0x12,bytes([int(128),int(200),int(0)]))"
   ]
  },
  {
   "cell_type": "code",
   "execution_count": 9,
   "metadata": {},
   "outputs": [],
   "source": [
    "i2c.writeto(0x12,bytes([int(240),int(128),int(0)]))"
   ]
  },
  {
   "cell_type": "code",
   "execution_count": 10,
   "metadata": {},
   "outputs": [],
   "source": [
    "i2c.writeto(0x12,bytes([int(28),int(128),int(0)]))"
   ]
  },
  {
   "cell_type": "code",
   "execution_count": 11,
   "metadata": {},
   "outputs": [
    {
     "name": "stdout",
     "output_type": "stream",
     "text": [
      "b'\\x00\\x01'\n"
     ]
    }
   ],
   "source": [
    "import struct\n",
    "tong = struct.pack(\">H\", 1)\n",
    "print(tong)\n",
    "i2c.writeto(0x12,tong)"
   ]
  },
  {
   "cell_type": "code",
   "execution_count": 17,
   "metadata": {},
   "outputs": [
    {
     "name": "stdout",
     "output_type": "stream",
     "text": [
      "b'\\x80\\x80\\x00'\n"
     ]
    }
   ],
   "source": [
    "data = i2c.readfrom(0x12, 3)\n",
    "print(data)"
   ]
  },
  {
   "cell_type": "code",
   "execution_count": 18,
   "metadata": {},
   "outputs": [
    {
     "name": "stdout",
     "output_type": "stream",
     "text": [
      "b'\\x80\\x80\\x00'\n",
      "b'\\x80\\x80\\x00'\n",
      "b'\\x80\\x80\\x00'\n",
      "b'\\x80\\x80\\x00'\n",
      "b'\\x80\\x80\\x00'\n",
      "b'\\x80\\x80\\x00'\n",
      "b'\\x80\\x80\\x00'\n",
      "b'\\x80\\x80\\x00'\n",
      "b'\\x80\\x80\\x00'\n",
      "b'\\x80\\x80\\x04'\n",
      "b'\\x80\\x80\\x04'\n",
      "b'\\x80\\x80\\x04'\n",
      "b'\\x80\\xbc\\x04'\n",
      "b'\\x80\\x1c\\x04'\n",
      "b'\\x80\\xa6\\x04'\n",
      "b'\\x80\\x80\\x04'\n",
      "b'\\x80\\xe4\\x04'\n",
      "b'\\x80\\x80\\x04'\n",
      "b'\\xc8\\x80\\x04'\n",
      "b'/\\x80\\x04'\n",
      "b'\\x1c\\x80\\x04'\n",
      "b'\\x80\\x80\\x04'\n",
      "b'\\x80\\x80\\x04'\n",
      "b'\\x80\\x80\\x04'\n",
      "b'\\x80\\x80\\x04'\n",
      "b'\\x80\\x80\\x04'\n",
      "b',\\x80\\x04'\n",
      "b')\\x80\\x04'\n",
      "b'\\x1c\\x80\\x04'\n",
      "b'\\x1c\\x80\\x04'\n",
      "b'\\x80\\x80\\x04'\n",
      "b'\\x80\\x80\\x04'\n",
      "b'\\x80\\x80\\x04'\n",
      "\u001b[34m\n",
      "\n",
      "*** Sending Ctrl-C\n",
      "\n",
      "\u001b[0m"
     ]
    },
    {
     "name": "stderr",
     "output_type": "stream",
     "text": [
      "Traceback (most recent call last):\n",
      "  File \"<stdin>\", line 4, in <module>\n",
      "KeyboardInterrupt: \n"
     ]
    }
   ],
   "source": [
    "while 1 :\n",
    "    data = i2c.readfrom(0x12, 3)\n",
    "    print(data)\n",
    "    time.sleep(1)"
   ]
  },
  {
   "cell_type": "code",
   "execution_count": 20,
   "metadata": {},
   "outputs": [],
   "source": [
    "import uos"
   ]
  },
  {
   "cell_type": "code",
   "execution_count": 21,
   "metadata": {},
   "outputs": [
    {
     "name": "stdout",
     "output_type": "stream",
     "text": [
      "['System Volume Information', 'main.py']\n"
     ]
    }
   ],
   "source": [
    "print(uos.listdir(\"/sd\"))"
   ]
  },
  {
   "cell_type": "code",
   "execution_count": null,
   "metadata": {},
   "outputs": [],
   "source": [
    "tong = uos.listdir(\"/sd\")"
   ]
  },
  {
   "cell_type": "code",
   "execution_count": null,
   "metadata": {},
   "outputs": [],
   "source": [
    "print(tong[1])"
   ]
  },
  {
   "cell_type": "code",
   "execution_count": null,
   "metadata": {},
   "outputs": [],
   "source": [
    "# Untitled - By: ER9X - Fri Nov 8 2019\n",
    "\n",
    "import sensor, image, time,lcd\n",
    "from Maix import freq\n",
    "\n",
    "\n",
    "print(freq.get())\n",
    "\n",
    "#freq.set(500,500)\n",
    "\n",
    "lcd.init()\n",
    "lcd.clear()\n",
    "sensor.reset(freq=24000000,dual_buff=True)\n",
    "sensor.set_pixformat(sensor.RGB565)\n",
    "sensor.set_framesize(sensor.QVGA)\n",
    "sensor.set_vflip(1)\n",
    "sensor.run(1)\n",
    "#sensor.set_windowing((0,0,224, 224))\n",
    "#sensor.run(1)\n",
    "lcd.init(type=2,freq=20000000,color=(255,0,0))\n",
    "#time.sleep(1)\n",
    "#lcd.init(type=2, freq=20000000, color=(0,255,0))\n",
    "#time.sleep(1)\n",
    "#lcd.init(type=2, freq=20000000, color=(0,0,255))\n",
    "#time.sleep(1)\n",
    "clock = time.clock()\n",
    "\n",
    "while(True):\n",
    "    clock.tick()\n",
    "    img = sensor.snapshot()\n",
    "    #tong = img.rgb_to_lab()\n",
    "    #img2 = img.rgb_to_grayscale()\n",
    "    lcd.display(img)\n",
    "    fps =clock.fps()\n",
    "    print(fps)"
   ]
  },
  {
   "cell_type": "code",
   "execution_count": null,
   "metadata": {},
   "outputs": [],
   "source": [
    "import sensor, image, time ,lcd\n",
    "import KPU as kpu\n",
    "from fpioa_manager import fm\n",
    "from machine import I2C\n",
    "from board import board_info\n",
    "from Maix import GPIO\n",
    "i2c = I2C(I2C.I2C0, freq=100000, scl=35, sda=34)\n",
    "\n",
    "sensor.reset(freq=35000000,dual_buff=True)\n",
    "sensor.set_pixformat(sensor.RGB565)\n",
    "sensor.set_framesize(sensor.QVGA)\n",
    "#sensor.skip_frames(time = 2000)\n",
    "sensor.set_vflip(1)\n",
    "sensor.run(1)\n",
    "\n",
    "clock = time.clock()\n",
    "toss1 = 0\n",
    "\n",
    "\n",
    "lcd.init()\n",
    "\n",
    "task = kpu.load(0x300000)\n",
    "\n",
    "#task = kpu.load(\"/sd/t6.kmodel\")\n",
    "##datazzz = bytes([int(128),int(128),int(0)])\n",
    "a = kpu.set_outputs(task,0,1,1,1)\n",
    "try:\n",
    "    while(True):\n",
    "        toss = toss1\n",
    "        toss1 = time.ticks_ms()\n",
    "        print(1000/(toss1-toss))\n",
    "        #img = image.Image(\"/sd/dataset/55.jpg\")\n",
    "        img = sensor.snapshot()\n",
    "        #img = img.draw_rectangle(0,0,320,80,color=(0,0,0),fill=True)\n",
    "        ##img = img.draw_rectangle(130,180,90,240-180,color=(0,0,0),fill=True)\n",
    "        img = img.resize(160,160)\n",
    "\n",
    "        ##img = img.draw_rectangle(0,180,224,320,color=(0,0,0),fill=True)\n",
    "        a = img.pix_to_ai()\n",
    "        #print(img[0])\n",
    "\n",
    "        fmap = kpu.forward(task,img)\n",
    "        plist=fmap[:]\n",
    "        #pmax=max(plist)\n",
    "        #max_index=plist.index(pmax)\n",
    "        #print(plist)\n",
    "        txx = 0\n",
    "        if abs(plist[0]) >0.2 :\n",
    "            txx = (plist[0])*128\n",
    "\n",
    "        #print(txx)\n",
    "        ##txx = txx*1.5\n",
    "        if txx > 127 :\n",
    "            txx = 127\n",
    "        if txx < -127 :\n",
    "            txx = -127\n",
    "        #print(txx)\n",
    "        #datazzz = bytes([int(128),int(txx+127),int(0)])\n",
    "        ####print(datazzz)\n",
    "        #i2c.writeto(0x12,bytes([int(200),int(txx+127),int(0)]))\n",
    "        #lcd.display(img)\n",
    "        #lcd.draw_string(90, 0, str(int(1000/(toss1-toss)))+\" fps\", lcd.RED,lcd.BLACK)\n",
    "        #lcd.display(img2)\n",
    "\n",
    "except KeyboardInterrupt :\n",
    "    a = kpu.deinit(task)"
   ]
  }
 ],
 "metadata": {
  "kernelspec": {
   "display_name": "MicroPython/ESP32 - USB",
   "language": "python",
   "name": "micropython"
  },
  "language_info": {
   "codemirror_mode": "python",
   "file_extension": ".py",
   "mimetype": "text/python",
   "name": "micropython"
  }
 },
 "nbformat": 4,
 "nbformat_minor": 4
}
