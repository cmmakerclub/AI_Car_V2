{
 "cells": [
  {
   "cell_type": "code",
   "execution_count": 2,
   "metadata": {},
   "outputs": [
    {
     "name": "stdout",
     "output_type": "stream",
     "text": [
      "\u001b[34mConnecting to --port=COM3 --baud=115200 \u001b[0m\n",
      "\u001b[34m\n",
      "Ready.\n",
      "\u001b[0m"
     ]
    }
   ],
   "source": [
    "%serialconnect --port=COM3 --baudrate=115200"
   ]
  },
  {
   "cell_type": "code",
   "execution_count": 3,
   "metadata": {},
   "outputs": [],
   "source": [
    "from machine import I2C\n",
    "import time\n",
    "import struct"
   ]
  },
  {
   "cell_type": "code",
   "execution_count": 4,
   "metadata": {},
   "outputs": [],
   "source": [
    "i2c = I2C(I2C.I2C0, freq=100000, scl=35, sda=34)"
   ]
  },
  {
   "cell_type": "code",
   "execution_count": 5,
   "metadata": {},
   "outputs": [
    {
     "name": "stdout",
     "output_type": "stream",
     "text": [
      "[18]\n"
     ]
    }
   ],
   "source": [
    "print(i2c.scan ())"
   ]
  },
  {
   "cell_type": "code",
   "execution_count": 6,
   "metadata": {},
   "outputs": [],
   "source": [
    "def buzzer(timelong = 0):  #ฟังชั้นเปิดเสียง ตัวเลข 1 = 50mS  หรือ 2 = 100mS\n",
    "    if timelong >= 255 :\n",
    "        timelong = 255\n",
    "    a = i2c.writeto(0x12,bytes([int(timelong)]))\n",
    "    return a\n",
    "\n",
    "def servomotor(M1 = 0,M2=0,M3=0,M4=0):  # ฟังชั้นขับโซโวมอเตอร์  มี 4 ช่อง M1,M2,M3,M4 ค่า 0-255 map 1000-1500 uS\n",
    "    if M1 >= 255 :\n",
    "        M1 = 255\n",
    "    if M2 >= 255 :\n",
    "        M2 = 255\n",
    "    if M3 >= 255 :\n",
    "        M3 = 255\n",
    "    if M4 >= 255 :\n",
    "        M4 = 255\n",
    "    a = i2c.writeto(0x12,bytes([int(M1),int(M2),int(M3),int(M4)]))\n",
    "    return a\n",
    "def carmotor(FB = 128,LR = 128):  # ฟังชั้น FB คือ เดินหน้า ถอยหลัง   LR คือ  เลี้ยวซ้าย ขวา\n",
    "#     if FB >= 255 :\n",
    "#         FB = 255\n",
    "#     if LR >= 255 :\n",
    "#         LR = 255\n",
    "\n",
    "    a = i2c.writeto(0x12,bytes([int(FB),int(LR),int(0)]))\n",
    "    return a\n",
    "def setname_bl(_num = 0):  # ฟังชั้นเปลียนซื่อ Blใส่ได้แต่ตัวเลขเท่านั้น\n",
    "#     if _num >= ุ60000 :\n",
    "#         _num = 60000\n",
    "    _namenum = struct.pack(\">H\", _num)\n",
    "    a = i2c.writeto(0x12,_namenum)\n",
    "    print(_namenum)\n",
    "    return a"
   ]
  },
  {
   "cell_type": "code",
   "execution_count": 6,
   "metadata": {},
   "outputs": [],
   "source": [
    "a = buzzer(1) #เสียงดังนาน 50ms"
   ]
  },
  {
   "cell_type": "code",
   "execution_count": 7,
   "metadata": {},
   "outputs": [],
   "source": [
    "a = buzzer(0) #เสียงดับ"
   ]
  },
  {
   "cell_type": "code",
   "execution_count": 25,
   "metadata": {},
   "outputs": [],
   "source": [
    "a = servomotor(255,255,255,255) # สั่ง servo หมุน "
   ]
  },
  {
   "cell_type": "code",
   "execution_count": 29,
   "metadata": {},
   "outputs": [],
   "source": [
    "a = carmotor(160,128)  #เดินหน้า , กลาง"
   ]
  },
  {
   "cell_type": "code",
   "execution_count": 23,
   "metadata": {},
   "outputs": [],
   "source": [
    "a = carmotor(90,128)  #ถอยหลัง , กลาง"
   ]
  },
  {
   "cell_type": "code",
   "execution_count": 37,
   "metadata": {},
   "outputs": [],
   "source": [
    "a = carmotor(128,0)  #หยุด , ช้าย"
   ]
  },
  {
   "cell_type": "code",
   "execution_count": 36,
   "metadata": {},
   "outputs": [],
   "source": [
    "a = carmotor(128,255)  #หยุด , ขวา"
   ]
  },
  {
   "cell_type": "code",
   "execution_count": 204,
   "metadata": {},
   "outputs": [
    {
     "name": "stdout",
     "output_type": "stream",
     "text": [
      "b'\\x00\\x01'\n"
     ]
    }
   ],
   "source": [
    "a = setname_bl(1)"
   ]
  },
  {
   "cell_type": "code",
   "execution_count": 5,
   "metadata": {},
   "outputs": [
    {
     "name": "stdout",
     "output_type": "stream",
     "text": [
      "38\n"
     ]
    }
   ],
   "source": [
    "data = i2c.readfrom(0x12, 3)\n",
    "print(data[1])"
   ]
  },
  {
   "cell_type": "code",
   "execution_count": 40,
   "metadata": {},
   "outputs": [
    {
     "name": "stdout",
     "output_type": "stream",
     "text": [
      "128 128 0\n",
      "128 128 0\n",
      "128 128 4\n",
      "128 128 4\n",
      "128 128 0\n",
      "128 128 0\n",
      "128 128 0\n",
      "128 128 0\n",
      "\u001b[34m\n",
      "\n",
      "*** Sending Ctrl-C\n",
      "\n",
      "\u001b[0m"
     ]
    },
    {
     "name": "stderr",
     "output_type": "stream",
     "text": [
      "Traceback (most recent call last):\n",
      "  File \"<stdin>\", line 4, in <module>\n",
      "KeyboardInterrupt: \n"
     ]
    }
   ],
   "source": [
    "while 1 :\n",
    "    data = i2c.readfrom(0x12, 3)\n",
    "    print(data[0],data[1],data[2])\n",
    "    time.sleep(1)"
   ]
  },
  {
   "cell_type": "code",
   "execution_count": 5,
   "metadata": {},
   "outputs": [],
   "source": [
    "import uos"
   ]
  },
  {
   "cell_type": "code",
   "execution_count": 13,
   "metadata": {},
   "outputs": [
    {
     "name": "stdout",
     "output_type": "stream",
     "text": [
      "['System Volume Information', 'main.py', 'boot.py', 'dataset.csv', '0', 'dataset2.txt']\n"
     ]
    }
   ],
   "source": [
    "print(uos.listdir(\"/sd\"))"
   ]
  },
  {
   "cell_type": "code",
   "execution_count": 5,
   "metadata": {},
   "outputs": [
    {
     "name": "stdout",
     "output_type": "stream",
     "text": [
      "0 100\n"
     ]
    }
   ],
   "source": [
    "\n",
    "# cone = -1\n",
    "# imgnum = 0\n",
    "# try:\n",
    "#     for x in range(0, 300):\n",
    "#         denx = uos.listdir(\"/sd/\"+str(x))\n",
    "#         imgnum = len(denx)\n",
    "#         cone =cone+1\n",
    "# except:\n",
    "#     print(cone,imgnum)"
   ]
  },
  {
   "cell_type": "code",
   "execution_count": 10,
   "metadata": {},
   "outputs": [],
   "source": [
    "uos.rename('/sd/dataset.csv', '/sd/dataset.txt')"
   ]
  },
  {
   "cell_type": "code",
   "execution_count": 11,
   "metadata": {},
   "outputs": [
    {
     "name": "stdout",
     "output_type": "stream",
     "text": [
      "2607\n"
     ]
    }
   ],
   "source": [
    "f=open('/sd/dataset.txt','r')\n",
    "labels=f.readlines()\n",
    "f.close()\n",
    "print(len(labels))"
   ]
  },
  {
   "cell_type": "code",
   "execution_count": 12,
   "metadata": {},
   "outputs": [],
   "source": [
    "uos.rename('/sd/dataset.txt', '/sd/dataset.csv')"
   ]
  },
  {
   "cell_type": "code",
   "execution_count": 17,
   "metadata": {},
   "outputs": [
    {
     "name": "stdout",
     "output_type": "stream",
     "text": [
      "1\n"
     ]
    }
   ],
   "source": [
    "print(int(3/2.8))"
   ]
  },
  {
   "cell_type": "code",
   "execution_count": null,
   "metadata": {},
   "outputs": [],
   "source": [
    "# Untitled - By: ER9X - Fri Nov 8 2019\n",
    "\n",
    "import sensor, image, time,lcd\n",
    "from Maix import freq\n",
    "\n",
    "\n",
    "print(freq.get())\n",
    "\n",
    "#freq.set(500,500)\n",
    "\n",
    "lcd.init()\n",
    "lcd.clear()\n",
    "sensor.reset(freq=24000000,dual_buff=True)\n",
    "sensor.set_pixformat(sensor.RGB565)\n",
    "sensor.set_framesize(sensor.QVGA)\n",
    "sensor.set_vflip(1)\n",
    "sensor.run(1)\n",
    "#sensor.set_windowing((0,0,224, 224))\n",
    "#sensor.run(1)\n",
    "lcd.init(type=2,freq=20000000,color=(255,0,0))\n",
    "#time.sleep(1)\n",
    "#lcd.init(type=2, freq=20000000, color=(0,255,0))\n",
    "#time.sleep(1)\n",
    "#lcd.init(type=2, freq=20000000, color=(0,0,255))\n",
    "#time.sleep(1)\n",
    "clock = time.clock()\n",
    "\n",
    "while(True):\n",
    "    clock.tick()\n",
    "    img = sensor.snapshot()\n",
    "    #tong = img.rgb_to_lab()\n",
    "    #img2 = img.rgb_to_grayscale()\n",
    "    lcd.display(img)\n",
    "    fps =clock.fps()\n",
    "    print(fps)"
   ]
  },
  {
   "cell_type": "code",
   "execution_count": null,
   "metadata": {},
   "outputs": [],
   "source": [
    "import sensor, image, time ,lcd\n",
    "import KPU as kpu\n",
    "from fpioa_manager import fm\n",
    "from machine import I2C\n",
    "from board import board_info\n",
    "from Maix import GPIO\n",
    "i2c = I2C(I2C.I2C0, freq=100000, scl=35, sda=34)\n",
    "\n",
    "sensor.reset(freq=35000000,dual_buff=True)\n",
    "sensor.set_pixformat(sensor.RGB565)\n",
    "sensor.set_framesize(sensor.QVGA)\n",
    "#sensor.skip_frames(time = 2000)\n",
    "sensor.set_vflip(1)\n",
    "sensor.run(1)\n",
    "\n",
    "clock = time.clock()\n",
    "toss1 = 0\n",
    "\n",
    "\n",
    "lcd.init()\n",
    "\n",
    "task = kpu.load(0x300000)\n",
    "\n",
    "#task = kpu.load(\"/sd/t6.kmodel\")\n",
    "##datazzz = bytes([int(128),int(128),int(0)])\n",
    "a = kpu.set_outputs(task,0,1,1,1)\n",
    "try:\n",
    "    while(True):\n",
    "        toss = toss1\n",
    "        toss1 = time.ticks_ms()\n",
    "        print(1000/(toss1-toss))\n",
    "        #img = image.Image(\"/sd/dataset/55.jpg\")\n",
    "        img = sensor.snapshot()\n",
    "        #img = img.draw_rectangle(0,0,320,80,color=(0,0,0),fill=True)\n",
    "        ##img = img.draw_rectangle(130,180,90,240-180,color=(0,0,0),fill=True)\n",
    "        img = img.resize(160,160)\n",
    "\n",
    "        ##img = img.draw_rectangle(0,180,224,320,color=(0,0,0),fill=True)\n",
    "        a = img.pix_to_ai()\n",
    "        #print(img[0])\n",
    "\n",
    "        fmap = kpu.forward(task,img)\n",
    "        plist=fmap[:]\n",
    "        #pmax=max(plist)\n",
    "        #max_index=plist.index(pmax)\n",
    "        #print(plist)\n",
    "        txx = 0\n",
    "        if abs(plist[0]) >0.2 :\n",
    "            txx = (plist[0])*128\n",
    "\n",
    "        #print(txx)\n",
    "        ##txx = txx*1.5\n",
    "        if txx > 127 :\n",
    "            txx = 127\n",
    "        if txx < -127 :\n",
    "            txx = -127\n",
    "        #print(txx)\n",
    "        #datazzz = bytes([int(128),int(txx+127),int(0)])\n",
    "        ####print(datazzz)\n",
    "        #i2c.writeto(0x12,bytes([int(200),int(txx+127),int(0)]))\n",
    "        #lcd.display(img)\n",
    "        #lcd.draw_string(90, 0, str(int(1000/(toss1-toss)))+\" fps\", lcd.RED,lcd.BLACK)\n",
    "        #lcd.display(img2)\n",
    "\n",
    "except KeyboardInterrupt :\n",
    "    a = kpu.deinit(task)"
   ]
  },
  {
   "cell_type": "code",
   "execution_count": null,
   "metadata": {},
   "outputs": [],
   "source": []
  }
 ],
 "metadata": {
  "kernelspec": {
   "display_name": "MicroPython/ESP32 - USB",
   "language": "python",
   "name": "micropython"
  },
  "language_info": {
   "codemirror_mode": "python",
   "file_extension": ".py",
   "mimetype": "text/python",
   "name": "micropython"
  }
 },
 "nbformat": 4,
 "nbformat_minor": 4
}
